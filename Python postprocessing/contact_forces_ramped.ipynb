{
 "cells": [
  {
   "cell_type": "code",
   "execution_count": 1,
   "metadata": {},
   "outputs": [],
   "source": [
    "import numpy as np\n",
    "import matplotlib.pyplot as plt\n",
    "import scienceplots\n",
    "import pandas as pd\n",
    "import os\n",
    "\n",
    "plt.style.use(['science', 'notebook', 'grid'])"
   ]
  },
  {
   "cell_type": "code",
   "execution_count": 7,
   "metadata": {},
   "outputs": [],
   "source": [
    "#loading contact force data\n",
    "master_dir = 'C:\\\\Users\\\\paudy\\\\OneDrive\\\\Documents\\\\ContactChain_out_0.7mu'\n",
    "\n",
    "df = {}\n",
    "\n",
    "for i in range(26, 36):\n",
    "    file_name = f'Contact_pairs_00{i}.csv'\n",
    "\n",
    "    file_path = os.path.join(master_dir, file_name)\n",
    "    df[file_name] = pd.read_csv(file_path)\n",
    "\n",
    "#extracting bottom_particles and bottom analytical boundary contact for all dataframes\n",
    "def apply_filters(df):\n",
    "    return df[(df['contact_type'] == 'SA') & (df['B'] == 908) & (df['Z'] <= -0.27)]\n",
    "\n",
    "# Apply the filters to all DataFrames in the dictionary\n",
    "filtered_df = {key: apply_filters(dataframe) for key, dataframe in df.items()}"
   ]
  },
  {
   "cell_type": "code",
   "execution_count": 12,
   "metadata": {},
   "outputs": [
    {
     "data": {
      "text/plain": [
       "[-0.600026,\n",
       " -0.58004,\n",
       " -0.559762,\n",
       " -0.539514,\n",
       " -0.519512,\n",
       " -0.499541,\n",
       " -0.479567,\n",
       " -0.45959,\n",
       " -0.439602,\n",
       " -0.419615,\n",
       " -0.399638,\n",
       " -0.379653,\n",
       " -0.359677,\n",
       " -0.339704,\n",
       " -0.319731,\n",
       " -0.299756,\n",
       " -0.27978,\n",
       " -0.259795,\n",
       " -0.239806,\n",
       " -0.219819,\n",
       " -0.199831,\n",
       " -0.179844,\n",
       " -0.159856,\n",
       " -0.13987,\n",
       " -0.119886,\n",
       " -0.0999047,\n",
       " -0.0799261,\n",
       " -0.0599479,\n",
       " -0.039969,\n",
       " -0.0199895,\n",
       " -9.53675e-06,\n",
       " 0.0199738,\n",
       " 0.0399594,\n",
       " 0.0599439,\n",
       " 0.0799275,\n",
       " 0.0999113,\n",
       " 0.119896,\n",
       " 0.13988,\n",
       " 0.159865,\n",
       " 0.179853,\n",
       " 0.199841,\n",
       " 0.219828,\n",
       " 0.239815,\n",
       " 0.259804,\n",
       " 0.279789,\n",
       " 0.299773,\n",
       " 0.319755,\n",
       " 0.339731,\n",
       " 0.3597,\n",
       " 0.379672,\n",
       " 0.399653,\n",
       " 0.419635,\n",
       " 0.43962,\n",
       " 0.459604,\n",
       " 0.479587,\n",
       " 0.499571,\n",
       " 0.519556,\n",
       " 0.539599,\n",
       " 0.559759,\n",
       " 0.580037,\n",
       " 0.600025]"
      ]
     },
     "execution_count": 12,
     "metadata": {},
     "output_type": "execute_result"
    }
   ],
   "source": [
    "#extracting the contact forces before application of the external load \n",
    "reference_file_name = 'Contact_pairs_0024.csv'\n",
    "reference_file = os.path.join(master_dir, reference_file_name)\n",
    "df_ref = pd.read_csv(reference_file)\n",
    "\n",
    "df_ref_filt = apply_filters(df_ref)\n",
    "\n",
    "x_coords = df_ref_filt['X'].tolist()\n",
    "\n",
    "y_coords = {}\n",
    "\n",
    "for key, dataframe in df.items():\n",
    "    "
   ]
  }
 ],
 "metadata": {
  "kernelspec": {
   "display_name": "base",
   "language": "python",
   "name": "python3"
  },
  "language_info": {
   "codemirror_mode": {
    "name": "ipython",
    "version": 3
   },
   "file_extension": ".py",
   "mimetype": "text/x-python",
   "name": "python",
   "nbconvert_exporter": "python",
   "pygments_lexer": "ipython3",
   "version": "3.11.7"
  }
 },
 "nbformat": 4,
 "nbformat_minor": 2
}
